{
 "cells": [
  {
   "cell_type": "code",
   "execution_count": 1,
   "id": "82c7f1f7-119b-46de-ab72-5c0f0ac03bb0",
   "metadata": {},
   "outputs": [
    {
     "name": "stdout",
     "output_type": "stream",
     "text": [
      "b'Hello World!'\n"
     ]
    }
   ],
   "source": [
    "import tensorflow.compat.v1 as tf\n",
    "tf.compat.v1.disable_eager_execution()\n",
    "h = tf.constant(\"Hello\")\n",
    "w = tf.constant(\" World!\")\n",
    "hw = h + w\n",
    "with tf.Session() as sess:\n",
    "    ans = sess.run(hw)\n",
    "    print (ans)"
   ]
  },
  {
   "cell_type": "code",
   "execution_count": 2,
   "id": "a27e7dd1-0b4c-40c0-8a62-9000dce110e2",
   "metadata": {},
   "outputs": [
    {
     "name": "stdout",
     "output_type": "stream",
     "text": [
      "Tensor(\"Const_7:0\", shape=(3, 2, 4), dtype=float32)\n"
     ]
    }
   ],
   "source": [
    "x = tf.constant(5,tf.float32)\n",
    "y = tf.constant([5], tf.float32)\n",
    "z = tf.constant([5,3,4], tf.float32)\n",
    "t = tf.constant([[5,3,4,6],[2,3,4,7]], tf.float32)\n",
    "u = tf.constant([[[5,3,4,6],[2,3,4,0]]], tf.float32)\n",
    "v = tf.constant([[[5,3,4,6],[2,3,4,0]],[[5,3,4,6],[2,3,4,0]],[[5,3,4,6],[2,3,4,0]]], tf.float32)\n",
    "print(v)"
   ]
  },
  {
   "cell_type": "code",
   "execution_count": 3,
   "id": "1a810515-32c4-4b87-87e5-e6ed9e248909",
   "metadata": {},
   "outputs": [
    {
     "name": "stdout",
     "output_type": "stream",
     "text": [
      "22.79\n"
     ]
    }
   ],
   "source": [
    "x1 = tf.Variable(5.3, tf.float32)\n",
    "x2 = tf.Variable(4.3, tf.float32)\n",
    "x = tf.multiply(x1,x2)\n",
    "init = tf.global_variables_initializer()\n",
    "with tf.Session() as sess:\n",
    "    sess.run(init)\n",
    "    t = sess.run(x)\n",
    "    print(t)"
   ]
  },
  {
   "cell_type": "code",
   "execution_count": 4,
   "id": "0f74464d-3e76-40a4-b4e4-32318624c632",
   "metadata": {},
   "outputs": [
    {
     "name": "stdout",
     "output_type": "stream",
     "text": [
      "[[22.79 19.35 42.  ]\n",
      " [22.79 19.35 42.  ]]\n"
     ]
    }
   ],
   "source": [
    "x1 = tf.Variable([[5.3,4.5,6.0],[4.3,4.3,7.0]], tf.float32)\n",
    "x2 = tf.Variable([[4.3,4.3,7.0],[5.3,4.5,6.0]], tf.float32)\n",
    "x = tf.multiply(x1,x2)\n",
    "init = tf.global_variables_initializer()\n",
    "with tf.Session() as sess:\n",
    "    sess.run(init)\n",
    "    t = sess.run(x)\n",
    "    print(t)"
   ]
  },
  {
   "cell_type": "code",
   "execution_count": 5,
   "id": "46b4a255-c654-473d-9c07-d19ab085ff1e",
   "metadata": {},
   "outputs": [
    {
     "name": "stdout",
     "output_type": "stream",
     "text": [
      "Tensor value before addition:\n",
      " [[0. 0.]\n",
      " [0. 0.]]\n",
      "Tensor value after addition:\n",
      " [[1. 1.]\n",
      " [1. 1.]]\n"
     ]
    }
   ],
   "source": [
    "# creating nodes in computation graph\n",
    "node = tf.Variable(tf.zeros([2,2]))\n",
    "# running computation graph\n",
    "with tf.Session() as sess:\n",
    "    # initialize all global variables\n",
    "    sess.run(tf.global_variables_initializer())\n",
    "    # evaluating node\n",
    "    print(\"Tensor value before addition:\\n\",sess.run(node))\n",
    "    # elementwise addition to tensor\n",
    "    node = node.assign(node + tf.ones([2,2]))\n",
    "    # evaluate node again\n",
    "    print(\"Tensor value after addition:\\n\", sess.run(node))\n",
    "    sess.close()"
   ]
  },
  {
   "cell_type": "code",
   "execution_count": 6,
   "id": "ae476fc6-9eb1-4b30-8664-022ceae38a81",
   "metadata": {},
   "outputs": [
    {
     "name": "stdout",
     "output_type": "stream",
     "text": [
      "10.0\n"
     ]
    }
   ],
   "source": [
    "x = tf.placeholder(tf.float32,None)\n",
    "y = tf.add(x,x)\n",
    "with tf.Session() as sess:\n",
    "    x_data= 5\n",
    "    result = sess.run(y,feed_dict={x:x_data})\n",
    "    print(result)"
   ]
  },
  {
   "cell_type": "code",
   "execution_count": 7,
   "id": "910a7b98-6313-47dc-9a84-a3143b3a71ea",
   "metadata": {},
   "outputs": [
    {
     "name": "stdout",
     "output_type": "stream",
     "text": [
      "[[3.  4.  6.6]]\n"
     ]
    }
   ],
   "source": [
    "x = tf.placeholder(tf.float32,[None,3])\n",
    "y = tf.add(x,x)\n",
    "with tf.Session() as sess:\n",
    "    x_data= [[1.5, 2.0, 3.3]]\n",
    "    result = sess.run(y,feed_dict={x:x_data})\n",
    "    print(result)"
   ]
  },
  {
   "cell_type": "code",
   "execution_count": 8,
   "id": "7d83c5b5-afd8-4a1c-9088-18f71dc79890",
   "metadata": {},
   "outputs": [
    {
     "name": "stdout",
     "output_type": "stream",
     "text": [
      "[[[2. 4. 6.]]]\n"
     ]
    }
   ],
   "source": [
    "x = tf.placeholder(tf.float32,[None,None,3])\n",
    "y = tf.add(x,x)\n",
    "with tf.Session() as sess:\n",
    "    x_data= [[[1,2,3]]]\n",
    "    result = sess.run(y,feed_dict={x:x_data})\n",
    "    print(result)"
   ]
  },
  {
   "cell_type": "code",
   "execution_count": 9,
   "id": "12c16952-2ca1-4719-81de-b4e1bbd61b2d",
   "metadata": {},
   "outputs": [
    {
     "name": "stdout",
     "output_type": "stream",
     "text": [
      "[[[ 2.  4.  6.]\n",
      "  [ 4.  6.  8.]\n",
      "  [ 4.  6. 10.]\n",
      "  [ 0.  2.  4.]]]\n"
     ]
    }
   ],
   "source": [
    "x = tf.placeholder(tf.float32,[None,4,3])\n",
    "y = tf.add(x,x)\n",
    "with tf.Session() as sess:\n",
    "    x_data= [[[1,2,3],[2,3,4],[2,3,5],[0,1,2]]]\n",
    "    result = sess.run(y,feed_dict={x:x_data})\n",
    "    print(result)"
   ]
  },
  {
   "cell_type": "code",
   "execution_count": 10,
   "id": "cba6475d-6dc9-40c1-b275-61a46be3d86d",
   "metadata": {},
   "outputs": [
    {
     "name": "stdout",
     "output_type": "stream",
     "text": [
      "[[[ 2.  4.  6.]\n",
      "  [ 4.  6.  8.]\n",
      "  [ 4.  6. 10.]\n",
      "  [ 0.  2.  4.]]\n",
      "\n",
      " [[ 2.  4.  6.]\n",
      "  [ 4.  6.  8.]\n",
      "  [ 4.  6. 10.]\n",
      "  [ 0.  2.  4.]]]\n"
     ]
    }
   ],
   "source": [
    "x = tf.placeholder(tf.float32,[2,4,3])\n",
    "y = tf.add(x,x)\n",
    "with tf.Session() as sess:\n",
    "    x_data= [[[1,2,3],[2,3,4],[2,3,5],[0,1,2]],[[1,2,3],[2,3,4],[2,3,5],[0,1,2]]]\n",
    "    result = sess.run(y,feed_dict={x:x_data})\n",
    "    print(result)"
   ]
  },
  {
   "cell_type": "code",
   "execution_count": 11,
   "id": "50192dec-c949-4002-9906-207f0d93b1b9",
   "metadata": {},
   "outputs": [
    {
     "name": "stdout",
     "output_type": "stream",
     "text": [
      "result1 = [[[ 2.  4.  6.]\n",
      "  [ 4.  6.  8.]\n",
      "  [ 4.  6. 10.]\n",
      "  [ 0.  2.  4.]]\n",
      "\n",
      " [[ 2.  4.  6.]\n",
      "  [ 4.  6.  8.]\n",
      "  [ 4.  6. 10.]\n",
      "  [ 0.  2.  4.]]]\n",
      "result2 = [[[ 1.  4.  9.]\n",
      "  [ 4.  9. 16.]\n",
      "  [ 4.  9. 25.]\n",
      "  [ 0.  1.  4.]]\n",
      "\n",
      " [[ 1.  4.  9.]\n",
      "  [ 4.  9. 16.]\n",
      "  [ 4.  9. 25.]\n",
      "  [ 0.  1.  4.]]]\n"
     ]
    }
   ],
   "source": [
    "x = tf.placeholder(tf.float32,[2,4,3])\n",
    "y = tf.placeholder(tf.float32,[2,4,3])\n",
    "z = tf.add(x,y)\n",
    "u = tf.multiply(x,y)\n",
    "with tf.Session() as sess:\n",
    "    x_data= [[[1,2,3],[2,3,4],[2,3,5],[0,1,2]],[[1,2,3],[2,3,4],[2,3,5],[0,1,2]]]\n",
    "    y_data= [[[1,2,3],[2,3,4],[2,3,5],[0,1,2]],[[1,2,3],[2,3,4],[2,3,5],[0,1,2]]]\n",
    "    result1 = sess.run(z,feed_dict={x:x_data, y:y_data})\n",
    "    result2 = sess.run(u,feed_dict={x:x_data, y:y_data})\n",
    "    print(\"result1 =\", result1)\n",
    "    print(\"result2 =\", result2)"
   ]
  },
  {
   "cell_type": "code",
   "execution_count": 12,
   "id": "6524c0fb-3aef-4875-8f66-b487f65f53b8",
   "metadata": {},
   "outputs": [
    {
     "name": "stdout",
     "output_type": "stream",
     "text": [
      "0.9885698\n"
     ]
    }
   ],
   "source": [
    "x1 = tf.constant(5.3, tf.float32)\n",
    "x2 = tf.constant(1.5, tf.float32)\n",
    "w1 = tf.Variable(0.7, tf.float32)\n",
    "w2 = tf.Variable(0.5, tf.float32)\n",
    "u = tf.multiply(x1,w1)\n",
    "v = tf.multiply(x2,w2)\n",
    "z = tf.add(u,v)\n",
    "result = tf.sigmoid(z)\n",
    "init = tf.global_variables_initializer()\n",
    "with tf.Session() as sess:\n",
    "    sess.run(init)\n",
    "    print(sess.run(result))"
   ]
  },
  {
   "cell_type": "code",
   "execution_count": 13,
   "id": "59482264-db54-4300-9437-6275d85a473e",
   "metadata": {},
   "outputs": [
    {
     "data": {
      "image/png": "[encoded data removed]",
      "text/plain": [
       "<Figure size 640x480 with 1 Axes>"
      ]
     },
     "metadata": {},
     "output_type": "display_data"
    }
   ],
   "source": [
    "import numpy as np\n",
    "import matplotlib.pyplot as plt\n",
    "number_of_points = 500\n",
    "x_point = []\n",
    "y_point = []\n",
    "a = 0.22\n",
    "b = 0.78\n",
    "for i in range(number_of_points):\n",
    "    x = np.random.normal(0.0,0.5)\n",
    "    y = a*x + b +np.random.normal(0.0,0.1)\n",
    "    x_point.append([x])\n",
    "    y_point.append([y])\n",
    "plt.plot(x_point,y_point, 'o', label = 'Input Data')\n",
    "plt.legend()\n",
    "plt.show()"
   ]
  },
  {
   "cell_type": "code",
   "execution_count": 14,
   "id": "2fac42f6-a2ed-449b-805f-56428155d67c",
   "metadata": {},
   "outputs": [
    {
     "name": "stdout",
     "output_type": "stream",
     "text": [
      "[[0.785835   0.85814893 0.9801597 ]]\n"
     ]
    }
   ],
   "source": [
    "x1 = tf.placeholder(tf.float32,[None,3])\n",
    "x2 = tf.placeholder(tf.float32,[None,3])\n",
    "w1 = tf.Variable([0.5,0.4,0.7],tf.float32)\n",
    "w2 = tf.Variable([0.8,0.5,0.6], tf.float32)\n",
    "u1 = tf.multiply(w1,x1)\n",
    "u2 = tf.multiply(w2,x2)\n",
    "v = tf.add(u1,u2)\n",
    "z = tf.sigmoid(v)\n",
    "init = tf.global_variables_initializer()\n",
    "with tf.Session() as sess:\n",
    "    x1_data= [[1,2,3]]\n",
    "    x2_data= [[1,2,3]]\n",
    "    sess.run(init)\n",
    "    result = sess.run(z,feed_dict={x1:x1_data, x2:x2_data})\n",
    "    print(result)"
   ]
  },
  {
   "cell_type": "code",
   "execution_count": 15,
   "id": "0dfc104a-baf2-4648-83f7-e19a0d67eeb6",
   "metadata": {},
   "outputs": [
    {
     "name": "stdout",
     "output_type": "stream",
     "text": [
      "[[2 2 2]\n",
      " [2 2 2]\n",
      " [2 2 2]]\n",
      "[[1 1 1]\n",
      " [1 1 1]\n",
      " [1 1 1]]\n",
      "[[2. 7. 2.]\n",
      " [1. 4. 2.]\n",
      " [9. 0. 2.]]\n",
      "[[6 6 6]\n",
      " [6 6 6]\n",
      " [6 6 6]]\n",
      "[[3 3 3]\n",
      " [3 3 3]\n",
      " [3 3 3]]\n",
      "55.999992\n"
     ]
    }
   ],
   "source": [
    "matrix1 = np.array([(2,2,2),(2,2,2),(2,2,2)],dtype = 'int32')\n",
    "matrix2 = np.array([(1,1,1),(1,1,1),(1,1,1)],dtype = 'int32')\n",
    "print (matrix1)\n",
    "print (matrix2)\n",
    "matrix1 = tf.constant(matrix1)\n",
    "matrix2 = tf.constant(matrix2)\n",
    "matrix_product = tf.matmul(matrix1, matrix2)\n",
    "matrix_sum = tf.add(matrix1,matrix2)\n",
    "matrix_3 = np.array([(2,7,2),(1,4,2),(9,0,2)],dtype = 'float32')\n",
    "print (matrix_3)\n",
    "matrix_det = tf.matrix_determinant(matrix_3)\n",
    "with tf.Session() as sess:\n",
    "    result1 = sess.run(matrix_product)\n",
    "    result2 = sess.run(matrix_sum)\n",
    "    result3 = sess.run(matrix_det)\n",
    "print (result1)\n",
    "print (result2)\n",
    "print (result3)"
   ]
  },
  {
   "cell_type": "code",
   "execution_count": 16,
   "id": "01104dd1-c84a-432c-accb-718c621a6052",
   "metadata": {},
   "outputs": [
    {
     "name": "stdout",
     "output_type": "stream",
     "text": [
      "Epoch:   200 \t Cost:    0.0792 \t W:0.2787 \t b:0.6071\n",
      "Epoch:   400 \t Cost:   0.07833 \t W:0.2728 \t b:0.6484\n",
      "Epoch:   600 \t Cost:   0.07779 \t W:0.2683 \t b:0.6809\n",
      "Epoch:   800 \t Cost:   0.07746 \t W:0.2647 \t b:0.7063\n",
      "Epoch:  1000 \t Cost:   0.07725 \t W:0.2619 \t b:0.7262\n",
      "Epoch:  1200 \t Cost:   0.07713 \t W:0.2597 \t b:0.7419\n",
      "Epoch:  1400 \t Cost:   0.07705 \t W:0.2579 \t b:0.7542\n",
      "Epoch:  1600 \t Cost:     0.077 \t W:0.2566 \t b:0.7638\n",
      "Epoch:  1800 \t Cost:   0.07698 \t W:0.2555 \t b:0.7713\n",
      "Epoch:  2000 \t Cost:   0.07696 \t W:0.2547 \t b:0.7773\n",
      "Optimization Finished!\n",
      "Final training cost: 0.07695754 W: 0.25467268 b: 0.7772651 \n",
      "\n"
     ]
    },
    {
     "data": {
      "image/png": "[encoded data removed]",
      "text/plain": [
       "<Figure size 640x480 with 1 Axes>"
      ]
     },
     "metadata": {},
     "output_type": "display_data"
    },
    {
     "name": "stdout",
     "output_type": "stream",
     "text": [
      "Final testing cost: 0.07770249\n",
      "Absolute mean square loss difference: 0.00074495375\n"
     ]
    },
    {
     "data": {
      "image/png": "[encoded data removed]",
      "text/plain": [
       "<Figure size 640x480 with 1 Axes>"
      ]
     },
     "metadata": {},
     "output_type": "display_data"
    }
   ],
   "source": [
    "# Model Parameters\n",
    "learning_rate = 0.01\n",
    "training_epochs = 2000\n",
    "display_step = 200\n",
    "# Training Data\n",
    "train_X = np.asarray([3.3,4.4,5.5,6.71,6.93,4.168,9.779,6.182,7.59,2.167,7.042,10.791,5.313,7.997,5.654,9.27,3.1])\n",
    "train_y = np.asarray([1.7,2.76,2.09,3.19,1.694,1.573,3.366,2.596,2.53,1.221,2.827,3.465,1.65,2.904,2.42,2.94,1.3])\n",
    "n_samples = train_X.shape[0]\n",
    "# Test Data\n",
    "test_X = np.asarray([6.83, 4.668, 8.9, 7.91, 5.7, 8.7, 3.1, 2.1])\n",
    "# Set placeholders for feature and target vectors\n",
    "X = tf.placeholder(tf.float32)\n",
    "y = tf.placeholder(tf.float32)\n",
    "# Set model weights and bias)\n",
    "test_y = np.asarray([1.84, 2.273, 3.2, 2.831, 2.92, 3.24, 1.35, 1.03])\n",
    "W = tf.Variable(np.random.randn(), name=\"weight\")\n",
    "b = tf.Variable(np.random.randn(), name=\"bias\")\n",
    "# Construct a linear model\n",
    "linear_model = W*X + b\n",
    "# Mean squared error\n",
    "cost = tf.reduce_sum(tf.square(linear_model - y)) / (2*n_samples)\n",
    "# Gradient descent\n",
    "optimizer = tf.train.GradientDescentOptimizer(learning_rate).minimize(cost)\n",
    "# Initializing the variables\n",
    "init = tf.global_variables_initializer()\n",
    "# Launch the graph\n",
    "with tf.Session() as sess:\n",
    "    # Load initialized variables in current session\n",
    "    sess.run(init)\n",
    "    # Fit all training data\n",
    "    for epoch in range(training_epochs):\n",
    "        # perform gradient descent step\n",
    "        sess.run(optimizer, feed_dict={X: train_X, y: train_y})\n",
    "        # Display logs per epoch step\n",
    "        if (epoch+1) % display_step == 0:\n",
    "            c = sess.run(cost, feed_dict={X: train_X, y: train_y})\n",
    "            print(\"Epoch:{0:6} \\t Cost:{1:10.4} \\t W:{2:6.4} \\t b:{3:6.4}\".format(epoch+1, c, sess.run(W), sess.run(b)))\n",
    "    # Print final parameter values\n",
    "    print(\"Optimization Finished!\")\n",
    "    training_cost = sess.run(cost, feed_dict={X: train_X, y: train_y})\n",
    "    print(\"Final training cost:\", training_cost, \"W:\", sess.run(W), \"b:\", sess.run(b), '\\n')\n",
    "    # Graphic display\n",
    "    plt.plot(train_X, train_y, 'ro', label='Original data')\n",
    "    plt.plot(train_X, sess.run(W) * train_X + sess.run(b), label='Fitted line')\n",
    "    plt.legend()\n",
    "    plt.show()\n",
    "    # Testing the model\n",
    "    testing_cost = sess.run(tf.reduce_sum(tf.square(linear_model - y)) / (2 * test_X.shape[0]), feed_dict={X: test_X, y: test_y})\n",
    "    print(\"Final testing cost:\", testing_cost)\n",
    "    print(\"Absolute mean square loss difference:\", abs(training_cost - testing_cost))\n",
    "    # Display fitted line on test data\n",
    "    plt.plot(test_X, test_y, 'bo', label='Testing data')\n",
    "    plt.plot(train_X, sess.run(W) * train_X + sess.run(b), label='Fitted line')\n",
    "    plt.legend()\n",
    "    plt.show()"
   ]
  },
  {
   "cell_type": "code",
   "execution_count": null,
   "id": "94fcd7bc-242c-456e-bb69-0763eece2e3e",
   "metadata": {},
   "outputs": [],
   "source": []
  }
 ],
 "metadata": {
  "kernelspec": {
   "display_name": "Python 3 (ipykernel)",
   "language": "python",
   "name": "python3"
  },
  "language_info": {
   "codemirror_mode": {
    "name": "ipython",
    "version": 3
   },
   "file_extension": ".py",
   "mimetype": "text/x-python",
   "name": "python",
   "nbconvert_exporter": "python",
   "pygments_lexer": "ipython3",
   "version": "3.10.13"
  }
 },
 "nbformat": 4,
 "nbformat_minor": 5
}
