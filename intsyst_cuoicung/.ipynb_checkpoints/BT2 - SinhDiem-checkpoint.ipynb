{
 "cells": [
  {
   "cell_type": "code",
   "execution_count": 1,
   "id": "bf33597b-214c-49c4-8c2f-2833fdf307b1",
   "metadata": {},
   "outputs": [],
   "source": [
    "import pandas as pd\n",
    "import numpy as np\n",
    "\n",
    "np.random.seed(42)\n",
    "\n",
    "# Define the proportions for each subject\n",
    "weights_mon1 = [0.1, 0.1, 0.2, 0.6]\n",
    "weights_mon2 = [0.1, 0.2, 0.2, 0.5]\n",
    "\n",
    "def generate_scores(n, weights):\n",
    "    data = []\n",
    "    for _ in range(n):\n",
    "        # Generate individual component scores\n",
    "        TP1 = np.round(np.random.uniform(1.0, 10.0)* 2) / 2\n",
    "        TP2 = np.round(np.random.uniform(1.0, 10.0)* 2) / 2\n",
    "        TP3 = np.round(np.random.uniform(1.0, 10.0)* 2) / 2\n",
    "        CK = np.round((TP1 * weights[0] + TP2 * weights[1] + TP3 * weights[2] + np.round(np.random.uniform(1.0, 10.0)* 2) / 2 * weights[3])* 2) / 2\n",
    "        data.append([TP1, TP2, TP3, CK])\n",
    "    return data\n",
    "\n",
    "mon1_data = generate_scores(2000, weights_mon1)\n",
    "mon2_data = generate_scores(2000, weights_mon2)\n",
    "\n",
    "mon1_df = pd.DataFrame(mon1_data, columns=[\"TP1\", \"TP2\", \"TP3\", \"CK\"])\n",
    "mon2_df = pd.DataFrame(mon2_data, columns=[\"TP1\", \"TP2\", \"TP3\", \"CK\"])\n",
    "\n",
    "mon1_df.to_csv(\"mon1_v1.csv\", index=False)\n",
    "mon2_df.to_csv(\"mon2_v1.csv\", index=False)\n"
   ]
  }
 ],
 "metadata": {
  "kernelspec": {
   "display_name": "Python 3 (ipykernel)",
   "language": "python",
   "name": "python3"
  },
  "language_info": {
   "codemirror_mode": {
    "name": "ipython",
    "version": 3
   },
   "file_extension": ".py",
   "mimetype": "text/x-python",
   "name": "python",
   "nbconvert_exporter": "python",
   "pygments_lexer": "ipython3",
   "version": "3.11.4"
  }
 },
 "nbformat": 4,
 "nbformat_minor": 5
}
